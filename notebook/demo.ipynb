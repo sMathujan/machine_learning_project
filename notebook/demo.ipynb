{
 "cells": [
  {
   "cell_type": "code",
   "execution_count": 1,
   "metadata": {},
   "outputs": [],
   "source": [
    "from threading import Thread"
   ]
  },
  {
   "cell_type": "code",
   "execution_count": 2,
   "metadata": {},
   "outputs": [],
   "source": [
    "import time"
   ]
  },
  {
   "cell_type": "code",
   "execution_count": 8,
   "metadata": {},
   "outputs": [],
   "source": [
    "class DemoThread(Thread):\n",
    "    def __init__(self, *args, **kwargs):\n",
    "        super().__init__(daemon=False, name=\"demo_thread\")\n",
    "\n",
    "    def print_msg(self):\n",
    "        time.sleep(1)\n",
    "        print(\"I was called by thread\")\n",
    "\n",
    "    def run(self): # Here, we override the run() function of Thread\n",
    "        self.print_msg()"
   ]
  },
  {
   "cell_type": "code",
   "execution_count": 9,
   "metadata": {},
   "outputs": [
    {
     "name": "stdout",
     "output_type": "stream",
     "text": [
      "Creating object of demo thread\n",
      "Starting demo tread\n",
      "Demo thread started\n",
      "I was called by thread\n",
      "Thread has completed\n"
     ]
    }
   ],
   "source": [
    "print(f\"Creating object of demo thread\")\n",
    "d = DemoThread()\n",
    "print(f\"Starting demo tread\")\n",
    "d.start() # This will execute the run() function\n",
    "print(f\"Demo thread started\")\n",
    "d.join() # But we set sleep for 1 second, so after the excecution of\n",
    "         # print(f\"Demo thread started\") this line,\n",
    "         # d.join() execute def print_msg() function\n",
    "print(f\"Thread has completed\")"
   ]
  },
  {
   "cell_type": "code",
   "execution_count": 10,
   "metadata": {},
   "outputs": [],
   "source": [
    "class DemoThread(Thread):\n",
    "    def __init__(self, *args, **kwargs):\n",
    "        super().__init__(daemon=False, name=\"demo_thread\")\n",
    "\n",
    "    def print_msg(self):\n",
    "        #time.sleep(1)\n",
    "        print(\"I was called by thread\")\n",
    "\n",
    "    def run(self): # Here, we override the run() function of Thread\n",
    "        self.print_msg()"
   ]
  },
  {
   "cell_type": "code",
   "execution_count": 11,
   "metadata": {},
   "outputs": [
    {
     "name": "stdout",
     "output_type": "stream",
     "text": [
      "Creating object of demo thread\n",
      "Starting demo tread\n",
      "I was called by thread\n",
      "Demo thread started\n",
      "Thread has completed\n"
     ]
    }
   ],
   "source": [
    "print(f\"Creating object of demo thread\")\n",
    "d = DemoThread()\n",
    "print(f\"Starting demo tread\")\n",
    "d.start() # This will execute the run() function\n",
    "print(f\"Demo thread started\")\n",
    "d.join() \n",
    "print(f\"Thread has completed\")"
   ]
  },
  {
   "cell_type": "markdown",
   "metadata": {},
   "source": [
    "By comparing the above 2 outputs, you can see the difference."
   ]
  },
  {
   "cell_type": "code",
   "execution_count": null,
   "metadata": {},
   "outputs": [],
   "source": []
  }
 ],
 "metadata": {
  "kernelspec": {
   "display_name": "Python 3.7.0 (conda)",
   "language": "python",
   "name": "python3"
  },
  "language_info": {
   "codemirror_mode": {
    "name": "ipython",
    "version": 3
   },
   "file_extension": ".py",
   "mimetype": "text/x-python",
   "name": "python",
   "nbconvert_exporter": "python",
   "pygments_lexer": "ipython3",
   "version": "3.7.0"
  },
  "orig_nbformat": 4,
  "vscode": {
   "interpreter": {
    "hash": "c08bc55b184244073f0d15dac901c0b6b306237364f8031ee959fcf3411796d6"
   }
  }
 },
 "nbformat": 4,
 "nbformat_minor": 2
}
